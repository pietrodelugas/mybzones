{
 "cells": [
  {
   "cell_type": "code",
   "execution_count": 2,
   "metadata": {},
   "outputs": [],
   "source": [
    "import numpy as np"
   ]
  },
  {
   "cell_type": "code",
   "execution_count": 3,
   "metadata": {},
   "outputs": [
    {
     "data": {
      "text/plain": [
       "(array([[ 1.        ,  0.57735027, -0.        ],\n",
       "        [ 0.        ,  1.15470054,  0.        ],\n",
       "        [ 0.        , -0.        ,  0.33333333]]),\n",
       " 3.0000000000000004)"
      ]
     },
     "execution_count": 3,
     "metadata": {},
     "output_type": "execute_result"
    }
   ],
   "source": [
    "h = 1.0\n",
    "csuh = 3.0\n",
    "vol1 = np.sqrt(0.75)\n",
    "a = np.array([[1.,0.,0.],[-0.5,np.sqrt(3)/2,0.],[0.0,0.0,csuh]])*h\n",
    "vol = lambda at: at[0].dot(np.cross(at[1],at[2])) \n",
    "perm = lambda i: [(i+_)%3 for _ in (0,1,2)]\n",
    "bl = lambda lat,i,: 2.0 * np.pi /vol(lat) * np.cross(lat[perm(i)[1]],lat[perm(i)[2]])  \n",
    "b = np.array([bl(a,i) for i in (0,1,2)])\n",
    "b/2/np.pi*h,vol(a)/vol1\n"
   ]
  },
  {
   "cell_type": "code",
   "execution_count": 13,
   "metadata": {},
   "outputs": [
    {
     "data": {
      "text/plain": [
       "([array([ 1.,  0., -1.]), array([-1.,  1.,  0.]), array([1., 1., 1.])],\n",
       " [array([ 0.33333333,  0.33333333, -0.66666667]),\n",
       "  array([-0.33333333,  0.66666667, -0.33333333]),\n",
       "  array([0.33333333, 0.33333333, 0.33333333])],\n",
       " array([-0.,  1., -1.]))"
      ]
     },
     "execution_count": 13,
     "metadata": {},
     "output_type": "execute_result"
    }
   ],
   "source": [
    "t = h/np.sqrt(3) \n",
    "vv = np.array([0.,0.,csuh/3.0]) * h \n",
    "tv = np.array([[np.sqrt(3)/2,-0.5, 0],[0.0,1.0,0.0],[-np.sqrt(3)/2,-0.5,0.0]]) * t \n",
    "ar = np.array([_ + vv for _ in tv])\n",
    "br = np.array([bl(ar,i) for i in (0,1,2)])\n",
    "[np.round(br.dot(_)/np.pi/2,8) for _ in a],[np.round(ar.dot(_)/np.pi/2,8) for _ in b],np.round(ar.dot(b[0]+b[1])/np.pi/2,8)\n"
   ]
  },
  {
   "cell_type": "code",
   "execution_count": 5,
   "metadata": {},
   "outputs": [
    {
     "data": {
      "text/plain": [
       "2.8833476275313425"
      ]
     },
     "execution_count": 5,
     "metadata": {},
     "output_type": "execute_result"
    }
   ],
   "source": [
    "0.857/0.514807/np.sqrt(3) * 3 "
   ]
  },
  {
   "cell_type": "code",
   "execution_count": 6,
   "metadata": {},
   "outputs": [
    {
     "data": {
      "text/plain": [
       "(array([0.33333333, 0.57735027, 0.        ]), 0.6666666666666667)"
      ]
     },
     "execution_count": 6,
     "metadata": {},
     "output_type": "execute_result"
    }
   ],
   "source": [
    "v = (b[0]+b[1])/2/np.pi*h/3\n",
    "v, np.sqrt(v.dot(v))"
   ]
  },
  {
   "cell_type": "code",
   "execution_count": 7,
   "metadata": {},
   "outputs": [
    {
     "data": {
      "text/plain": [
       "array([[ 1.        ,  0.57735027, -0.        ],\n",
       "       [ 0.        ,  1.15470054,  0.        ],\n",
       "       [ 0.        , -0.        ,  0.33333333]])"
      ]
     },
     "execution_count": 7,
     "metadata": {},
     "output_type": "execute_result"
    }
   ],
   "source": [
    "b/2/np.pi"
   ]
  },
  {
   "cell_type": "code",
   "execution_count": 8,
   "metadata": {},
   "outputs": [
    {
     "data": {
      "text/plain": [
       "0.5851916688725748"
      ]
     },
     "execution_count": 8,
     "metadata": {},
     "output_type": "execute_result"
    }
   ],
   "source": [
    "0.656 * 0.8920604708423396 "
   ]
  },
  {
   "cell_type": "code",
   "execution_count": 9,
   "metadata": {},
   "outputs": [
    {
     "data": {
      "text/plain": [
       "array([[ 1.        ,  0.57735027, -0.        ],\n",
       "       [ 0.        ,  1.15470054,  0.        ],\n",
       "       [ 0.        , -0.        ,  0.33333333]])"
      ]
     },
     "execution_count": 9,
     "metadata": {},
     "output_type": "execute_result"
    }
   ],
   "source": [
    "b/2/np.pi*h"
   ]
  },
  {
   "cell_type": "code",
   "execution_count": 18,
   "metadata": {},
   "outputs": [
    {
     "data": {
      "text/plain": [
       "array([[ 6.28318531, -3.62759873,  2.0943951 ],\n",
       "       [ 0.        ,  7.25519746,  2.0943951 ],\n",
       "       [-6.28318531, -3.62759873,  2.0943951 ]])"
      ]
     },
     "execution_count": 18,
     "metadata": {},
     "output_type": "execute_result"
    }
   ],
   "source": [
    "br"
   ]
  },
  {
   "cell_type": "code",
   "execution_count": 11,
   "metadata": {},
   "outputs": [
    {
     "data": {
      "text/plain": [
       "(array([ 1.        ,  0.57735027, -0.        ]),\n",
       " array([0.        , 1.15470054, 0.        ]))"
      ]
     },
     "execution_count": 11,
     "metadata": {},
     "output_type": "execute_result"
    }
   ],
   "source": [
    "b[0]/2/np.pi*h,b[1]/2/np.pi*h "
   ]
  },
  {
   "cell_type": "code",
   "execution_count": 12,
   "metadata": {},
   "outputs": [
    {
     "data": {
      "text/plain": [
       "0.9999999999999999"
      ]
     },
     "execution_count": 12,
     "metadata": {},
     "output_type": "execute_result"
    }
   ],
   "source": [
    "np.sqrt(b[0].dot(b[0]))/2/np.pi*h *(np.sqrt(3)/2)"
   ]
  },
  {
   "cell_type": "code",
   "execution_count": 14,
   "metadata": {},
   "outputs": [
    {
     "data": {
      "text/plain": [
       "array([[ 1.15470054, -0.66666667,  0.38490018],\n",
       "       [ 0.        ,  1.33333333,  0.38490018],\n",
       "       [-1.15470054, -0.66666667,  0.38490018]])"
      ]
     },
     "execution_count": 14,
     "metadata": {},
     "output_type": "execute_result"
    }
   ],
   "source": [
    "br/2/np.pi*np.sqrt(ar[0].dot(ar[0]))"
   ]
  },
  {
   "cell_type": "code",
   "execution_count": 16,
   "metadata": {},
   "outputs": [
    {
     "data": {
      "text/plain": [
       "array([[ 1.        ,  0.57735027, -0.        ],\n",
       "       [ 0.        ,  1.15470054,  0.        ],\n",
       "       [ 0.        , -0.        ,  0.33333333]])"
      ]
     },
     "execution_count": 16,
     "metadata": {},
     "output_type": "execute_result"
    }
   ],
   "source": [
    "b/2/np.pi"
   ]
  },
  {
   "cell_type": "code",
   "execution_count": 17,
   "metadata": {},
   "outputs": [
    {
     "data": {
      "text/plain": [
       "array([ 1.15470054,  0.66666667, -0.        ])"
      ]
     },
     "execution_count": 17,
     "metadata": {},
     "output_type": "execute_result"
    }
   ],
   "source": [
    "b[0]/2/np.pi*np.sqrt(ar[0].dot(ar[0]))"
   ]
  },
  {
   "cell_type": "code",
   "execution_count": null,
   "metadata": {},
   "outputs": [],
   "source": []
  }
 ],
 "metadata": {
  "kernelspec": {
   "display_name": "Python 3.8.10 64-bit",
   "language": "python",
   "name": "python3"
  },
  "language_info": {
   "codemirror_mode": {
    "name": "ipython",
    "version": 3
   },
   "file_extension": ".py",
   "mimetype": "text/x-python",
   "name": "python",
   "nbconvert_exporter": "python",
   "pygments_lexer": "ipython3",
   "version": "3.8.10"
  },
  "orig_nbformat": 4,
  "vscode": {
   "interpreter": {
    "hash": "31f2aee4e71d21fbe5cf8b01ff0e069b9275f58929596ceb00d14d90e3e16cd6"
   }
  }
 },
 "nbformat": 4,
 "nbformat_minor": 2
}
